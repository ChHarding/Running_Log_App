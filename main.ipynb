{
 "cells": [
  {
   "cell_type": "code",
   "execution_count": 18,
   "metadata": {},
   "outputs": [
    {
     "name": "stdout",
     "output_type": "stream",
     "text": [
      "       Date Run Type  Hours  Minutes  Seconds  Miles\n",
      "0  1/1/2024     road      1        1        1    1.0\n",
      "1  1/2/2024    trail      2        2        2    2.0\n",
      "2  1/3/2024    trail      3        3        3    3.0\n"
     ]
    }
   ],
   "source": [
    "# ADDING NEW DATA\n",
    "# FIXME: Stop having new index columns added \n",
    "\n",
    "import pandas as pd\n",
    "# import openpyxl as op\n",
    "\n",
    "# Reads excel file\n",
    "df = pd.read_excel(\"RunLog.xlsx\") \n",
    "\n",
    "add_data = input(\"Would you like to input data? y/n \")\n",
    "\n",
    "while add_data == \"y\":\n",
    "    # User inputs\n",
    "    date = input(\"Enter date (M/D/YYYY): \")\n",
    "    run_type = input(\"Enter road or trail: \")\n",
    "    hours = int(input(\"Enter number of hours: \"))\n",
    "    minutes = int(input(\"Enter number of minutes: \"))\n",
    "    seconds = int(input(\"Enter number of seconds: \"))\n",
    "    miles = float(input(\"Enter number of miles: \"))\n",
    "\n",
    "    # Creating new row of data based on user inputs\n",
    "    new_row = pd.DataFrame({'Date': [date], 'Run Type': [run_type], 'Hours': [hours], 'Minutes': [minutes], 'Seconds': [seconds], 'Miles': [miles]})\n",
    "    \n",
    "    # Adding new row \n",
    "    df = pd.concat([df, new_row], ignore_index=True)\n",
    "   \n",
    "    # Sends new row to excel spreadsheet\n",
    "    df.to_excel(\"RunLog.xlsx\")\n",
    "\n",
    "    # Asking if user wants to continue adding more data\n",
    "    add_data = input(\"Would you like to input data? y/n \")\n",
    "    if add_data == \"y\":\n",
    "        continue \n",
    "    else: \n",
    "        break \n",
    "print(df)\n",
    "\n"
   ]
  },
  {
   "cell_type": "code",
   "execution_count": 19,
   "metadata": {},
   "outputs": [
    {
     "name": "stdout",
     "output_type": "stream",
     "text": [
      "   Unnamed: 0      Date Run Type  Hours  Minutes  Seconds  Miles\n",
      "0           0  1/1/2024     road      1        1        1      1\n",
      "1           1  1/2/2024    trail      2        2        2      2\n",
      "2           2  1/3/2024     road      3        3        3      3\n"
     ]
    }
   ],
   "source": [
    "# EDITING DATA \n",
    "# FIXME: Stop having new index columns added \n",
    "\n",
    "import pandas as pd\n",
    "\n",
    "df = pd.read_excel(\"RunLog.xlsx\") \n",
    "edit_data = input(\"Would you like to edit data? y/n \")\n",
    "\n",
    "while edit_data == \"y\":\n",
    "    # User inputting what row and column to make edits in\n",
    "    index_input = int(input(\"Enter index to edit: \"))\n",
    "    select_column = input(\"Enter column name to edit: \")\n",
    "    \n",
    "    # Depending on column, will convert user input to correct data type\n",
    "    if select_column == \"Date\" or select_column == \"Run Type\":\n",
    "        user_edit = input(\"Enter new data: \")\n",
    "    elif select_column == \"Miles\":\n",
    "        df.at[index_input, 'Miles'] = None\n",
    "        user_edit = float(input(\"Enter new data: \"))\n",
    "    else:\n",
    "        user_edit = int(input(\"Enter new data: \"))\n",
    "     \n",
    "    # Changes the data at the selected index and column\n",
    "    df.at[index_input, select_column] = user_edit\n",
    "\n",
    "    # Sends edit to excel spreadsheet\n",
    "    df.to_excel(\"RunLog.xlsx\")\n",
    "    \n",
    "    # Asking if user wants to continue editing data\n",
    "    edit_data = input(\"Would you like to edit data? y/n \")\n",
    "    if edit_data == \"y\":\n",
    "        continue\n",
    "    else:\n",
    "        break\n",
    "print(df)"
   ]
  },
  {
   "cell_type": "code",
   "execution_count": 17,
   "metadata": {},
   "outputs": [
    {
     "name": "stdout",
     "output_type": "stream",
     "text": [
      "Weekly Road Run Average: 8.0625\n",
      "Weekly Trail Run Average: 12.7\n",
      "Weekly Total Average: 20.7625\n"
     ]
    }
   ],
   "source": [
    "# CALCULATIONS \n",
    "# For now, utilzing a different excel spreadsheet with a whole months worth of inputted running data\n",
    "\n",
    "import pandas as pd\n",
    "\n",
    "df = pd.read_excel(\"RunLog_Test.xlsx\") \n",
    "\n",
    "road_miles = 0.0\n",
    "trail_miles = 0.0\n",
    "counter = 0\n",
    "\n",
    "# Iterates through each row and adds the total road and trail run miles\n",
    "for index, row in df.iterrows():\n",
    "    if counter <= 27:\n",
    "        if df.at[index, \"Run Type\"] == \"road\":\n",
    "            road_miles += df.at[index, \"Miles\"]\n",
    "            counter += 1\n",
    "        if df.at[index, \"Run Type\"] == \"trail\":\n",
    "            trail_miles += df.at[index, \"Miles\"]\n",
    "            counter += 1\n",
    "    elif counter > 28:\n",
    "        counter = 0\n",
    "\n",
    "\n",
    "# Calculations\n",
    "weekly_road_average = road_miles / 4\n",
    "weekly_trail_average = trail_miles / 4\n",
    "weekly_total_average = weekly_road_average + weekly_trail_average\n",
    "\n",
    "print(\"Weekly Road Run Average:\", weekly_road_average)\n",
    "print(\"Weekly Trail Run Average:\", weekly_trail_average)\n",
    "print(\"Weekly Total Average:\", weekly_total_average)\n",
    "\n"
   ]
  }
 ],
 "metadata": {
  "kernelspec": {
   "display_name": "Python 3",
   "language": "python",
   "name": "python3"
  },
  "language_info": {
   "codemirror_mode": {
    "name": "ipython",
    "version": 3
   },
   "file_extension": ".py",
   "mimetype": "text/x-python",
   "name": "python",
   "nbconvert_exporter": "python",
   "pygments_lexer": "ipython3",
   "version": "3.12.1"
  }
 },
 "nbformat": 4,
 "nbformat_minor": 2
}
